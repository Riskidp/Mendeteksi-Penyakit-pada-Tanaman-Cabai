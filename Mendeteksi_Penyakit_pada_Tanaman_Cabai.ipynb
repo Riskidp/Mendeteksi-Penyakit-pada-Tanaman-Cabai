{
  "nbformat": 4,
  "nbformat_minor": 0,
  "metadata": {
    "kernelspec": {
      "display_name": "Python 3",
      "language": "python",
      "name": "python3"
    },
    "language_info": {
      "codemirror_mode": {
        "name": "ipython",
        "version": 3
      },
      "file_extension": ".py",
      "mimetype": "text/x-python",
      "name": "python",
      "nbconvert_exporter": "python",
      "pygments_lexer": "ipython3",
      "version": "3.8.5"
    },
    "colab": {
      "name": "Mendeteksi Penyakit pada Tanaman Cabai.ipynb",
      "provenance": []
    }
  },
  "cells": [
    {
      "cell_type": "markdown",
      "metadata": {
        "id": "Su0xb9A3-guz"
      },
      "source": [
        "# Mini Project Kelompok 4 Pendeteksi Kesehatan Cabai"
      ]
    },
    {
      "cell_type": "markdown",
      "metadata": {
        "id": "sSYWtN01-gvS"
      },
      "source": [
        "# Memasukkan Data"
      ]
    },
    {
      "cell_type": "code",
      "metadata": {
        "scrolled": true,
        "id": "0oo1ePKp-gvW",
        "outputId": "fcae0479-94f2-4ac8-f73c-e85f8c0f43a1",
        "colab": {
          "base_uri": "https://localhost:8080/",
          "height": 235
        }
      },
      "source": [
        "import numpy as np\n",
        "import matplotlib.pyplot as plt\n",
        "import os \n",
        "import cv2\n",
        "\n",
        "\n",
        "#memasukkan data\n",
        "DATADIR = 'D:\\Studi Independetn Orbit\\TA\\Data Baru\\Latih-Cropped'\n",
        "CATEGORIES = ['DaunSehat', 'Sakit']\n",
        "\n",
        "for category in CATEGORIES:\n",
        "    path = os.path.join(DATADIR, category) #path datanya\n",
        "    for img in os.listdir(path): #mengambil semua gambar\n",
        "        img_array = cv2.imread(os.path.join(path, img))#ini untuk mengubah image menjadi array menjadi array\n",
        "        plt.imshow(img_array)\n",
        "        plt.show()\n",
        "        print(img_array.shape)\n",
        "        break\n",
        "    break"
      ],
      "execution_count": 1,
      "outputs": [
        {
          "output_type": "error",
          "ename": "FileNotFoundError",
          "evalue": "ignored",
          "traceback": [
            "\u001b[0;31m---------------------------------------------------------------------------\u001b[0m",
            "\u001b[0;31mFileNotFoundError\u001b[0m                         Traceback (most recent call last)",
            "\u001b[0;32m<ipython-input-1-e826de11a164>\u001b[0m in \u001b[0;36m<module>\u001b[0;34m()\u001b[0m\n\u001b[1;32m     11\u001b[0m \u001b[0;32mfor\u001b[0m \u001b[0mcategory\u001b[0m \u001b[0;32min\u001b[0m \u001b[0mCATEGORIES\u001b[0m\u001b[0;34m:\u001b[0m\u001b[0;34m\u001b[0m\u001b[0;34m\u001b[0m\u001b[0m\n\u001b[1;32m     12\u001b[0m     \u001b[0mpath\u001b[0m \u001b[0;34m=\u001b[0m \u001b[0mos\u001b[0m\u001b[0;34m.\u001b[0m\u001b[0mpath\u001b[0m\u001b[0;34m.\u001b[0m\u001b[0mjoin\u001b[0m\u001b[0;34m(\u001b[0m\u001b[0mDATADIR\u001b[0m\u001b[0;34m,\u001b[0m \u001b[0mcategory\u001b[0m\u001b[0;34m)\u001b[0m \u001b[0;31m#path datanya\u001b[0m\u001b[0;34m\u001b[0m\u001b[0;34m\u001b[0m\u001b[0m\n\u001b[0;32m---> 13\u001b[0;31m     \u001b[0;32mfor\u001b[0m \u001b[0mimg\u001b[0m \u001b[0;32min\u001b[0m \u001b[0mos\u001b[0m\u001b[0;34m.\u001b[0m\u001b[0mlistdir\u001b[0m\u001b[0;34m(\u001b[0m\u001b[0mpath\u001b[0m\u001b[0;34m)\u001b[0m\u001b[0;34m:\u001b[0m \u001b[0;31m#mengambil semua gambar\u001b[0m\u001b[0;34m\u001b[0m\u001b[0;34m\u001b[0m\u001b[0m\n\u001b[0m\u001b[1;32m     14\u001b[0m         \u001b[0mimg_array\u001b[0m \u001b[0;34m=\u001b[0m \u001b[0mcv2\u001b[0m\u001b[0;34m.\u001b[0m\u001b[0mimread\u001b[0m\u001b[0;34m(\u001b[0m\u001b[0mos\u001b[0m\u001b[0;34m.\u001b[0m\u001b[0mpath\u001b[0m\u001b[0;34m.\u001b[0m\u001b[0mjoin\u001b[0m\u001b[0;34m(\u001b[0m\u001b[0mpath\u001b[0m\u001b[0;34m,\u001b[0m \u001b[0mimg\u001b[0m\u001b[0;34m)\u001b[0m\u001b[0;34m)\u001b[0m\u001b[0;31m#ini untuk mengubah image menjadi array menjadi array\u001b[0m\u001b[0;34m\u001b[0m\u001b[0;34m\u001b[0m\u001b[0m\n\u001b[1;32m     15\u001b[0m         \u001b[0mplt\u001b[0m\u001b[0;34m.\u001b[0m\u001b[0mimshow\u001b[0m\u001b[0;34m(\u001b[0m\u001b[0mimg_array\u001b[0m\u001b[0;34m)\u001b[0m\u001b[0;34m\u001b[0m\u001b[0;34m\u001b[0m\u001b[0m\n",
            "\u001b[0;31mFileNotFoundError\u001b[0m: [Errno 2] No such file or directory: 'D:\\\\Studi Independetn Orbit\\\\TA\\\\Data Baru\\\\Latih-Cropped/DaunSehat'"
          ]
        }
      ]
    },
    {
      "cell_type": "markdown",
      "metadata": {
        "id": "M5QQbVyg-gwg"
      },
      "source": [
        "# Melakukan Scaling Data Gambar"
      ]
    },
    {
      "cell_type": "code",
      "metadata": {
        "scrolled": true,
        "id": "Pblmj7V2-gwi"
      },
      "source": [
        "IMG_SIZE = 250 #kita mengubah resolusi menjadi 250x250 (pixel)\n",
        "\n",
        "new_array = cv2.resize(img_array, (IMG_SIZE, IMG_SIZE))\n",
        "plt.imshow(new_array)\n",
        "plt.show()"
      ],
      "execution_count": null,
      "outputs": []
    },
    {
      "cell_type": "code",
      "metadata": {
        "id": "HNeLHXR2-gwl"
      },
      "source": [
        "#membuat training data\n",
        "training_data = []\n",
        "\n",
        "def create_training_data(CATEGORIES, DATADIR, app, IMG_SIZE):\n",
        "    for category in CATEGORIES:\n",
        "        path = os.path.join(DATADIR, category) #os.path.join() adalah function untuk menggabungkan directory\n",
        "        \n",
        "        #mengubah jadi 1 dan 0\n",
        "        class_num = CATEGORIES.index(category) #ini mengambil nilai index dog dan cat\n",
        "        \n",
        "        for img in os.listdir(path):\n",
        "            try: #try untuk mencegah ketika ada error yang muncul \n",
        "                img_array = cv2.imread(os.path.join(path, img))\n",
        "                new_array = cv2.resize(img_array, (IMG_SIZE, IMG_SIZE))\n",
        "                app.append([new_array, class_num]) #disini kita menyimpan array dan class_num\n",
        "            \n",
        "            except Exception as e:#ketika ada pemberitahuan kaya error maka di biarkan pass aja\n",
        "                pass\n",
        "            \n",
        "create_training_data(CATEGORIES, DATADIR, training_data, 250)"
      ],
      "execution_count": null,
      "outputs": []
    },
    {
      "cell_type": "code",
      "metadata": {
        "scrolled": true,
        "id": "P0jPqD17-gwo"
      },
      "source": [
        "len(training_data)"
      ],
      "execution_count": null,
      "outputs": []
    },
    {
      "cell_type": "markdown",
      "metadata": {
        "id": "ViNupkoa-gwy"
      },
      "source": [
        "# Melakukan Shuffle Untuk Data Training"
      ]
    },
    {
      "cell_type": "code",
      "metadata": {
        "id": "70NTOFgA-gw2"
      },
      "source": [
        "import random\n",
        "random.shuffle(training_data)\n",
        "\n",
        "#disini kita membagi menjadi x dan y nya \n",
        "x = [] #training data\n",
        "y = [] #labelnya\n",
        "\n",
        "#memasukkan feature dan label kedalam x dan y\n",
        "for features, label in training_data:\n",
        "    x.append(features)\n",
        "    y.append(label)\n",
        "\n",
        "#disini kita perlu mengubah menjadi array karena kalau list enggak bisa masuk ke API Keras\n",
        "x = np.array(x).reshape(-1, IMG_SIZE, IMG_SIZE, 3) "
      ],
      "execution_count": null,
      "outputs": []
    },
    {
      "cell_type": "code",
      "metadata": {
        "id": "9gYIol4j-gw5"
      },
      "source": [
        "x.shape"
      ],
      "execution_count": null,
      "outputs": []
    },
    {
      "cell_type": "markdown",
      "metadata": {
        "id": "0q5yH70w-gxB"
      },
      "source": [
        "# Pemrosesan Data"
      ]
    },
    {
      "cell_type": "code",
      "metadata": {
        "scrolled": true,
        "id": "7Isiaoh0-gxD"
      },
      "source": [
        "import tensorflow as tf\n",
        "from tensorflow.keras.datasets import cifar10\n",
        "from tensorflow.keras.preprocessing.image import ImageDataGenerator\n",
        "from tensorflow.keras.models import Sequential\n",
        "from tensorflow.keras.layers import Dense, Dropout, Activation, Flatten\n",
        "from tensorflow.keras.layers import Conv2D, MaxPooling2D\n",
        "import pickle\n",
        "import numpy as np\n",
        "from tensorflow.keras.callbacks import TensorBoard\n",
        "import time\n",
        "\n",
        "NAME = 'Tanaman-sehat-dan-sakit-cnn-64x2-{}'.format(int(time.time())) #kita buat nama untuk memudahkan dalam membedakkan dengan model lain karena kita akan buat model lain\n",
        "\n",
        "tensorboard = TensorBoard(log_dir = 'log/{}'.format(NAME)) #ini adalah call back dari model kita\n",
        "\n",
        "x = x\n",
        "\n",
        "y = y\n",
        "\n",
        "x = x/255.0\n",
        "\n",
        "model = Sequential()\n",
        "\n",
        "model.add(Conv2D(64, (3,3), input_shape = x.shape[1:])) #memasukkan layer (konvolusi 2 dimensi(banyak neuron, besar window, besar inputnya))\n",
        "model.add(Activation('relu'))\n",
        "model.add(MaxPooling2D(pool_size = (2,2)))\n",
        "\n",
        "model.add(Conv2D(64,(3,3)))\n",
        "model.add(Activation('relu'))\n",
        "model.add(MaxPooling2D(pool_size = (2,2))) #mencari nilai terbesar dari windownnya\n",
        "\n",
        "model.add(Flatten()) #disini kita membuat matriks 3 dimensi menjadi 2 dimensi\n",
        "\n",
        "model.add(Dense(64))\n",
        "model.add(Activation('relu')) #perlu diingat kalau habis layer dense perlu activation karena kalau enggak sama aja kaya regression biasa\n",
        "\n",
        "model.add(Dense(1))\n",
        "model.add(Activation('sigmoid'))\n",
        "\n",
        "model.compile(loss = 'binary_crossentropy',\n",
        "             optimizer = 'adam',\n",
        "             metrics = ['accuracy'])\n",
        "\n",
        "model.fit(np.array(x), np.array(y), batch_size = 32, epochs = 10, validation_split = 0.3, callbacks = [tensorboard])\n",
        "\n"
      ],
      "execution_count": null,
      "outputs": []
    },
    {
      "cell_type": "markdown",
      "metadata": {
        "id": "wb9RecDW-gxJ"
      },
      "source": [
        "# Menyimpan Model"
      ]
    },
    {
      "cell_type": "code",
      "metadata": {
        "scrolled": false,
        "id": "N1UNDLJs-gxL"
      },
      "source": [
        "model.save('model2_penyakit_cabai.model')"
      ],
      "execution_count": null,
      "outputs": []
    },
    {
      "cell_type": "markdown",
      "metadata": {
        "id": "Fvp20oIV-gxw"
      },
      "source": [
        "# Melakukan Testing"
      ]
    },
    {
      "cell_type": "code",
      "metadata": {
        "id": "KwspD2QD-gxx"
      },
      "source": [
        "import tensorflow as tf\n",
        "DATADIR_TESTING = \"D:\\Studi Independetn Orbit\\TA\\Data Baru\\Tes-Cropped\"\n",
        "CATEGORIES_TESTING = ['DaunSehat', 'sakit']\n",
        "val_data = []\n",
        "IMG_SIZE = 250\n",
        "\n",
        "create_training_data(CATEGORIES_TESTING, DATADIR_TESTING, val_data, 250)\n",
        "model = tf.keras.models.load_model('model2_penyakit_cabai.model')\n",
        "\n",
        "x_val = [] #training data\n",
        "y_val = [] #labelnya\n",
        "\n",
        "for features, label in val_data:\n",
        "    x_val.append(features)\n",
        "    y_val.append(label)\n",
        "    \n",
        "x_val = np.array(x_val).reshape(-1, IMG_SIZE, IMG_SIZE, 3) "
      ],
      "execution_count": null,
      "outputs": []
    },
    {
      "cell_type": "code",
      "metadata": {
        "scrolled": false,
        "id": "TuZrQ5l9-gx2"
      },
      "source": [
        "y_pred = model.predict(x_val)"
      ],
      "execution_count": null,
      "outputs": []
    },
    {
      "cell_type": "code",
      "metadata": {
        "id": "bJ4C4M-H-gx4"
      },
      "source": [
        "y_pred"
      ],
      "execution_count": null,
      "outputs": []
    },
    {
      "cell_type": "code",
      "metadata": {
        "id": "SagdIKb_-gx7"
      },
      "source": [
        "y_val"
      ],
      "execution_count": null,
      "outputs": []
    },
    {
      "cell_type": "code",
      "metadata": {
        "id": "Hhxed_aX-gx9"
      },
      "source": [
        "def akurasi(y_pred, y_val):\n",
        "    betul = 0\n",
        "    salah = 0\n",
        "    for i in range(len(y_pred)):\n",
        "        if y_pred[i] == y_val[i]:\n",
        "            betul+=1\n",
        "        else:\n",
        "            salah+=1\n",
        "    akurasi = betul/len(y_pred)\n",
        "    return print(akurasi)"
      ],
      "execution_count": null,
      "outputs": []
    },
    {
      "cell_type": "code",
      "metadata": {
        "id": "ZAxvWKiD-gx_"
      },
      "source": [
        "akurasi(y_pred, y_val)"
      ],
      "execution_count": null,
      "outputs": []
    },
    {
      "cell_type": "code",
      "metadata": {
        "id": "XeT-zjYS-gyC"
      },
      "source": [
        "print(y_pred[0])\n",
        "plt.imshow(x_val[0])\n",
        "plt.show()"
      ],
      "execution_count": null,
      "outputs": []
    },
    {
      "cell_type": "markdown",
      "metadata": {
        "id": "Bru9kPQV-gyF"
      },
      "source": [
        "# Testing"
      ]
    },
    {
      "cell_type": "code",
      "metadata": {
        "id": "e4i43HPA-gyH"
      },
      "source": [
        "val_loss, val_acc = model.evaluate(np.array(x_val), np.array(y_val))"
      ],
      "execution_count": null,
      "outputs": []
    },
    {
      "cell_type": "markdown",
      "metadata": {
        "id": "p0dRv0KJ-gyJ"
      },
      "source": [
        "# Coba"
      ]
    },
    {
      "cell_type": "code",
      "metadata": {
        "id": "vw4fp7DI-gyK"
      },
      "source": [
        "import cv2\n",
        "import tensorflow as tf\n",
        "import matplotlib.image as mpimg\n",
        "\n",
        "CATEGORIES = ['DaunSehat', 'sakit']\n",
        "\n",
        "def change(image):\n",
        "    IMG_SIZE = 250\n",
        "    img_array = cv2.imread(image)\n",
        "    new_array = cv2.resize(img_array,(IMG_SIZE, IMG_SIZE))\n",
        "    return new_array.reshape(-1, IMG_SIZE, IMG_SIZE, 3)\n",
        "    \n",
        "model = tf.keras.models.load_model('model2_penyakit_cabai.model')\n",
        "\n",
        "def hasil(file):\n",
        "    gambar = file\n",
        "    prediction = model.predict([change(gambar)])\n",
        "    print(prediction)\n",
        "    img = mpimg.imread(gambar)\n",
        "    imgplot = plt.imshow(img)\n",
        "    plt.show();\n",
        "\n",
        "hasil('DS(94).jpg')"
      ],
      "execution_count": null,
      "outputs": []
    },
    {
      "cell_type": "code",
      "metadata": {
        "id": "SdJaMdo1-gyO"
      },
      "source": [
        "hasil('KM(99).jpg')"
      ],
      "execution_count": null,
      "outputs": []
    },
    {
      "cell_type": "code",
      "metadata": {
        "id": "Dfv20d6N-gyP"
      },
      "source": [
        "hasil('VG(76).jpg')"
      ],
      "execution_count": null,
      "outputs": []
    },
    {
      "cell_type": "markdown",
      "metadata": {
        "id": "QowBP0Rr-gyQ"
      },
      "source": [
        "# Mencoba dengan pretrained model VGG16"
      ]
    },
    {
      "cell_type": "code",
      "metadata": {
        "id": "Zo9UESi0-gyR"
      },
      "source": [
        "from tensorflow.keras.models import Model\n",
        "import numpy as np\n",
        "from tensorflow.keras import layers\n",
        "from tensorflow.keras.applications.vgg16 import VGG16\n",
        "from tensorflow.keras import layers \n",
        "import tensorflow as tf"
      ],
      "execution_count": null,
      "outputs": []
    },
    {
      "cell_type": "code",
      "metadata": {
        "id": "F5eHb8lc-gyT"
      },
      "source": [
        "training_data_2 = []\n",
        "IMG_SIZE = 224\n",
        "create_training_data(CATEGORIES, DATADIR, training_data_2, 224)\n",
        "\n",
        "base_model = VGG16(input_shape = (224, 224, 3), # Shape of our images\n",
        "include_top = False, # Leave out the last fully connected layer\n",
        "weights = 'imagenet')"
      ],
      "execution_count": null,
      "outputs": []
    },
    {
      "cell_type": "code",
      "metadata": {
        "id": "llEJzO7H-gyT"
      },
      "source": [
        "import random\n",
        "random.shuffle(training_data_2)\n",
        "\n",
        "#disini kita membagi menjadi x dan y nya \n",
        "x2 = [] #training data\n",
        "y2 = [] #labelnya\n",
        "\n",
        "#memasukkan feature dan label kedalam x dan y\n",
        "for features, label in training_data_2:\n",
        "    x2.append(features)\n",
        "    y2.append(label)\n",
        "\n",
        "#disini kita perlu mengubah menjadi array karena kalau list enggak bisa masuk ke API Keras\n",
        "x2 = np.array(x2).reshape(-1, IMG_SIZE, IMG_SIZE, 3) "
      ],
      "execution_count": null,
      "outputs": []
    },
    {
      "cell_type": "code",
      "metadata": {
        "id": "7FNEYiyb-gyV"
      },
      "source": [
        "for layer in base_model.layers:\n",
        "    layer.trainable = False"
      ],
      "execution_count": null,
      "outputs": []
    },
    {
      "cell_type": "code",
      "metadata": {
        "id": "wijx4sZB-gyW"
      },
      "source": [
        "# Flatten the output layer to 1 dimension\n",
        "x = layers.Flatten()(base_model.output)\n",
        "\n",
        "# Add a fully connected layer with 512 hidden units and ReLU activation\n",
        "x = layers.Dense(512, activation='relu')(x)\n",
        "\n",
        "# Add a dropout rate of 0.5\n",
        "x = layers.Dropout(0.5)(x)\n",
        "\n",
        "# Add a final sigmoid layer with 1 node for classification output\n",
        "x = layers.Dense(1, activation='sigmoid')(x)\n",
        "\n",
        "model2 = tf.keras.models.Model(base_model.input, x)\n",
        "\n",
        "model2.compile(optimizer = tf.keras.optimizers.RMSprop(lr=0.0001), loss = 'binary_crossentropy',metrics = ['acc'])"
      ],
      "execution_count": null,
      "outputs": []
    },
    {
      "cell_type": "code",
      "metadata": {
        "scrolled": false,
        "id": "000S8HMP-gyX"
      },
      "source": [
        "model2.fit(np.array(x2), np.array(y2), epochs=10)"
      ],
      "execution_count": null,
      "outputs": []
    },
    {
      "cell_type": "code",
      "metadata": {
        "id": "iBtmscSK-gyZ"
      },
      "source": [
        "model.save('VGG16_penyakit_cabai.model')"
      ],
      "execution_count": null,
      "outputs": []
    },
    {
      "cell_type": "code",
      "metadata": {
        "id": "aI19Jtd4-gya"
      },
      "source": [
        "import tensorflow as tf\n",
        "DATADIR_TESTING = \"D:\\Studi Independetn Orbit\\TA\\Data Baru\\Tes-Cropped\"\n",
        "CATEGORIES_TESTING = ['DaunSehat', 'sakit']\n",
        "val_data = []\n",
        "IMG_SIZE = 250\n",
        "\n",
        "create_training_data(CATEGORIES_TESTING, DATADIR_TESTING, val_data, 250)\n",
        "model = tf.keras.models.load_model('VGG16_penyakit_cabai.model')\n",
        "\n",
        "x_val_2 = [] #training data\n",
        "y_val_2 = [] #labelnya\n",
        "\n",
        "for features, label in val_data:\n",
        "    x_val_2.append(features)\n",
        "    y_val_2.append(label)\n",
        "    \n",
        "x_val = np.array(x_val_2).reshape(-1, IMG_SIZE, IMG_SIZE, 3)"
      ],
      "execution_count": null,
      "outputs": []
    },
    {
      "cell_type": "code",
      "metadata": {
        "id": "WKtfCw7e-gyb"
      },
      "source": [
        "val_loss, val_acc = model2.evaluate(np.array(x_val_2), np.array(y_val_2))"
      ],
      "execution_count": null,
      "outputs": []
    },
    {
      "cell_type": "code",
      "metadata": {
        "id": "88HKZQiI-gyc"
      },
      "source": [
        "import cv2\n",
        "import tensorflow as tf\n",
        "import matplotlib.image as mpimg\n",
        "\n",
        "CATEGORIES = ['DaunSehat', 'sakit']\n",
        "\n",
        "def change(image):\n",
        "    IMG_SIZE = 250\n",
        "    img_array = cv2.imread(image)\n",
        "    new_array = cv2.resize(img_array,(IMG_SIZE, IMG_SIZE))\n",
        "    return new_array.reshape(-1, IMG_SIZE, IMG_SIZE, 3)\n",
        "    \n",
        "model = tf.keras.models.load_model('VGG16_penyakit_cabai.model')\n",
        "\n",
        "def hasil2(file):\n",
        "    gambar = file\n",
        "    prediction = model.predict([change(gambar)])\n",
        "    print(prediction)\n",
        "    img = mpimg.imread(gambar)\n",
        "    imgplot = plt.imshow(img)\n",
        "    plt.show();\n",
        "\n",
        "hasil('DS(94).jpg')"
      ],
      "execution_count": null,
      "outputs": []
    },
    {
      "cell_type": "code",
      "metadata": {
        "id": "mhMCLJqU-gye"
      },
      "source": [
        "hasil2('KM(99).jpg')"
      ],
      "execution_count": null,
      "outputs": []
    },
    {
      "cell_type": "code",
      "metadata": {
        "id": "ew2b6T60-gyf"
      },
      "source": [
        "hasil2('VG(76).jpg')"
      ],
      "execution_count": null,
      "outputs": []
    },
    {
      "cell_type": "code",
      "metadata": {
        "id": "NvE5Hjo2-gyl"
      },
      "source": [
        "hasil2('daun cabe.jpg')"
      ],
      "execution_count": null,
      "outputs": []
    },
    {
      "cell_type": "code",
      "metadata": {
        "id": "7NH6v_Pn-gyn"
      },
      "source": [
        ""
      ],
      "execution_count": null,
      "outputs": []
    }
  ]
}